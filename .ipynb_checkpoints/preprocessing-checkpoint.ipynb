{
 "cells": [
  {
   "cell_type": "code",
   "execution_count": 24,
   "id": "279c52b7-33b0-43a1-af5e-bbd5ae46811e",
   "metadata": {},
   "outputs": [],
   "source": [
    "import pandas as pd\n",
    "import numpy as np\n",
    "import matplotlib.pyplot as plt\n",
    "import seaborn as sns\n",
    "import duckdb\n"
   ]
  },
  {
   "cell_type": "code",
   "execution_count": 25,
   "id": "a1c684b1-cab6-4e4c-981c-1e43cf24413b",
   "metadata": {},
   "outputs": [
    {
     "name": "stderr",
     "output_type": "stream",
     "text": [
      "/tmp/ipykernel_6632/2706314688.py:1: DtypeWarning: Columns (1) have mixed types. Specify dtype option on import or set low_memory=False.\n",
      "  drivers_data_df = pd.read_csv(\"data/Crash_Reporting_-_Drivers_Data.csv\")\n",
      "/tmp/ipykernel_6632/2706314688.py:2: DtypeWarning: Columns (9,16) have mixed types. Specify dtype option on import or set low_memory=False.\n",
      "  incidents_data_df = pd.read_csv(\"data/Crash_Reporting_-_Incidents_Data_20241111.csv\")\n"
     ]
    }
   ],
   "source": [
    "drivers_data_df = pd.read_csv(\"data/Crash_Reporting_-_Drivers_Data.csv\")\n",
    "incidents_data_df = pd.read_csv(\"data/Crash_Reporting_-_Incidents_Data_20241111.csv\")\n",
    "nonmotorist_data_df = pd.read_csv(\"data/Crash_Reporting_-_Non-Motorists_Data_20241111.csv\")"
   ]
  },
  {
   "cell_type": "code",
   "execution_count": 26,
   "id": "8dc9b76d-0d5c-43d2-ae37-fa26726a99aa",
   "metadata": {},
   "outputs": [
    {
     "name": "stdout",
     "output_type": "stream",
     "text": [
      "<class 'pandas.core.frame.DataFrame'>\n",
      "RangeIndex: 187311 entries, 0 to 187310\n",
      "Data columns (total 39 columns):\n",
      " #   Column                         Non-Null Count   Dtype  \n",
      "---  ------                         --------------   -----  \n",
      " 0   Report Number                  187311 non-null  object \n",
      " 1   Local Case Number              187311 non-null  object \n",
      " 2   Agency Name                    187311 non-null  object \n",
      " 3   ACRS Report Type               187311 non-null  object \n",
      " 4   Crash Date/Time                187311 non-null  object \n",
      " 5   Route Type                     168981 non-null  object \n",
      " 6   Road Name                      168141 non-null  object \n",
      " 7   Cross-Street Name              161910 non-null  object \n",
      " 8   Off-Road Description           17292 non-null   object \n",
      " 9   Municipality                   19126 non-null   object \n",
      " 10  Related Non-Motorist           6009 non-null    object \n",
      " 11  Collision Type                 186726 non-null  object \n",
      " 12  Weather                        173955 non-null  object \n",
      " 13  Surface Condition              165771 non-null  object \n",
      " 14  Light                          185866 non-null  object \n",
      " 15  Traffic Control                160528 non-null  object \n",
      " 16  Driver Substance Abuse         155991 non-null  object \n",
      " 17  Non-Motorist Substance Abuse   4863 non-null    object \n",
      " 18  Person ID                      187311 non-null  object \n",
      " 19  Driver At Fault                187311 non-null  object \n",
      " 20  Injury Severity                186374 non-null  object \n",
      " 21  Circumstance                   35425 non-null   object \n",
      " 22  Driver Distracted By           186297 non-null  object \n",
      " 23  Drivers License State          175622 non-null  object \n",
      " 24  Vehicle ID                     187311 non-null  object \n",
      " 25  Vehicle Damage Extent          186995 non-null  object \n",
      " 26  Vehicle First Impact Location  187155 non-null  object \n",
      " 27  Vehicle Body Type              184505 non-null  object \n",
      " 28  Vehicle Movement               186433 non-null  object \n",
      " 29  Vehicle Going Dir              182128 non-null  object \n",
      " 30  Speed Limit                    187311 non-null  int64  \n",
      " 31  Driverless Vehicle             187311 non-null  object \n",
      " 32  Parked Vehicle                 185777 non-null  object \n",
      " 33  Vehicle Year                   187311 non-null  int64  \n",
      " 34  Vehicle Make                   186890 non-null  object \n",
      " 35  Vehicle Model                  186848 non-null  object \n",
      " 36  Latitude                       187311 non-null  float64\n",
      " 37  Longitude                      187311 non-null  float64\n",
      " 38  Location                       187311 non-null  object \n",
      "dtypes: float64(2), int64(2), object(35)\n",
      "memory usage: 55.7+ MB\n"
     ]
    }
   ],
   "source": [
    "drivers_data_df.info()"
   ]
  },
  {
   "cell_type": "code",
   "execution_count": 38,
   "id": "827e7264-d168-41d3-b3a0-2c23aec1ce79",
   "metadata": {},
   "outputs": [],
   "source": [
    "# incidents_data_df.info()"
   ]
  },
  {
   "cell_type": "code",
   "execution_count": 39,
   "id": "0f509adf-30d7-4209-a2a3-c9e8a42dd529",
   "metadata": {},
   "outputs": [],
   "source": [
    "# nonmotorist_data_df.info()"
   ]
  },
  {
   "cell_type": "markdown",
   "id": "bf0d28b2-a2dc-4847-a6f4-a0f6a0e4fd43",
   "metadata": {},
   "source": [
    "## Preprocessing"
   ]
  },
  {
   "cell_type": "code",
   "execution_count": 67,
   "id": "3122c426-5703-4b85-b586-450f0755681e",
   "metadata": {},
   "outputs": [],
   "source": [
    "drivers_data_df[\"Collision Type\"] = drivers_data_df[\"Collision Type\"].str.upper()\n",
    "drivers_data_df[\"Driver Distracted By\"] = drivers_data_df[\"Driver Distracted By\"].str.upper()\n",
    "drivers_data_df[\"Vehicle Body Type\"] = drivers_data_df[\"Vehicle Body Type\"].str.upper()\n",
    "drivers_data_df[\"Injury Severity\"] = drivers_data_df[\"Injury Severity\"].str.upper()\n",
    "\n",
    "drivers_data_df[\"Driver Substance Abuse\"] = drivers_data_df[\"Driver Substance Abuse\"].str.upper()\n",
    "drivers_data_df[\"Driver Substance Abuse\"] = drivers_data_df[\"Driver Substance Abuse\"].apply(\n",
    "    lambda desc: list(map(str.strip, desc.split(','))) if isinstance(desc, str) else desc\n",
    ")\n",
    "\n",
    "\n",
    "drivers_data_df[\"Parked Vehicle\"] = drivers_data_df[\"Parked Vehicle\"].replace({\"Yes\" : True,\n",
    "                                                                              \"No\" : False})\n",
    "\n",
    "\n",
    "\n",
    "\n",
    "#Grouping of data\n",
    "vehicle_body_type_mapping = {\n",
    "    \"Passenger Vehicles\": [\n",
    "        \"PASSENGER CAR\",\n",
    "        \"(SPORT) UTILITY VEHICLE\",\n",
    "        \"SPORT UTILITY VEHICLE\",\n",
    "        \"STATION WAGON\",\n",
    "        \"AUTOCYCLE\",\n",
    "        \"LOW SPEED VEHICLE\",\n",
    "        \"RECREATIONAL VEHICLE\"\n",
    "    ],\n",
    "    \"Light Trucks / Vans\": [\n",
    "        \"PICKUP TRUCK\",\n",
    "        \"PICKUP\",\n",
    "        \"OTHER LIGHT TRUCKS (10,000LBS (4,536KG) OR LESS)\",\n",
    "        \"VAN\",\n",
    "        \"VAN - CARGO\",\n",
    "        \"CARGO VAN/LIGHT TRUCK 2 AXLES (OVER 10,000LBS (4,536 KG))\",\n",
    "        \"VAN - PASSENGER (&LT;9 SEATS)\",\n",
    "        \"VAN - PASSENGER (9 OR 12 SEATS)\"\n",
    "    ],\n",
    "    \"Heavy/Commercial Vehicles\": [\n",
    "        \"MEDIUM/HEAVY TRUCKS 3 AXLES (OVER 10,000LBS (4,536KG))\",\n",
    "        \"TRUCK TRACTOR\",\n",
    "        \"SINGLE-UNIT TRUCK\",\n",
    "        \"OTHER TRUCKS\",\n",
    "        \"CONSTRUCTION EQUIPMENT (BACKHOE, BULLDOZER, ETC.)\",\n",
    "        \"FARM VEHICLE\",\n",
    "        \"FARM EQUIPMENT (TRACTOR, COMBINE HARVESTER, ETC.)\"\n",
    "    ],\n",
    "    \"Emergency / Law Enforcement Vehicles\": [\n",
    "        \"POLICE VEHICLE/NON EMERGENCY\",\n",
    "        \"POLICE VEHICLE/EMERGENCY\",\n",
    "        \"AMBULANCE/EMERGENCY\",\n",
    "        \"AMBULANCE/NON EMERGENCY\",\n",
    "        \"FIRE VEHICLE/EMERGENCY\",\n",
    "        \"FIRE VEHICLE/NON EMERGENCY\"\n",
    "    ],\n",
    "    \"Buses\": [\n",
    "        \"TRANSIT BUS\",\n",
    "        \"SCHOOL BUS\",\n",
    "        \"BUS - TRANSIT\",\n",
    "        \"BUS - SCHOOL\",\n",
    "        \"BUS - MINI\",\n",
    "        \"BUS - CROSS COUNTRY\",\n",
    "        \"CROSS COUNTRY BUS\",\n",
    "        \"BUS - OTHER TYPE\",\n",
    "        \"OTHER BUS\"\n",
    "    ],\n",
    "    \"Motorcycles / Recreational / Specialty Vehicles\": [\n",
    "        \"MOTORCYCLE\",\n",
    "        \"MOTORCYCLE - 2 WHEELED\",\n",
    "        \"MOTORCYCLE - 3 WHEELED\",\n",
    "        \"MOPED\",\n",
    "        \"MOPED OR MOTORIZED BICYCLE\",\n",
    "        \"ALL TERRAIN VEHICLE (ATV)\",\n",
    "        \"ALL-TERRAIN VEHICLE/ALL-TERRAIN CYCLE (ATV/ATC)\",\n",
    "        \"SNOWMOBILE\",\n",
    "        \"RECREATIONAL OFF-HIGHWAY VEHICLES (ROV)\"\n",
    "    ]\n",
    "}\n",
    "\n",
    "vehicle_group_mapping = {vehicle: group for group, vehicles in vehicle_body_type_mapping.items() for vehicle in vehicles}\n",
    "\n",
    "drivers_data_df[\"Vehicle Type Group\"] = drivers_data_df[\"Vehicle Body Type\"].map(vehicle_group_mapping)\n"
   ]
  },
  {
   "cell_type": "code",
   "execution_count": 68,
   "id": "15872f2a-8894-4a17-bf37-e3279b41493f",
   "metadata": {},
   "outputs": [
    {
     "data": {
      "text/plain": [
       "Driver Substance Abuse\n",
       "[NONE DETECTED]                                          122547\n",
       "[NOT SUSPECT OF ALCOHOL USE, NOT SUSPECT OF DRUG USE]     13073\n",
       "[UNKNOWN]                                                 11990\n",
       "[ALCOHOL PRESENT]                                          4087\n",
       "[UNKNOWN, UNKNOWN]                                         1578\n",
       "[ALCOHOL CONTRIBUTED]                                      1435\n",
       "[SUSPECT OF ALCOHOL USE, NOT SUSPECT OF DRUG USE]           389\n",
       "[ILLEGAL DRUG PRESENT]                                      259\n",
       "[MEDICATION PRESENT]                                        117\n",
       "[ILLEGAL DRUG CONTRIBUTED]                                  102\n",
       "[COMBINED SUBSTANCE PRESENT]                                 92\n",
       "[MEDICATION CONTRIBUTED]                                     64\n",
       "[OTHER]                                                      59\n",
       "[SUSPECT OF ALCOHOL USE, UNKNOWN]                            48\n",
       "[COMBINATION CONTRIBUTED]                                    47\n",
       "[UNKNOWN, NOT SUSPECT OF DRUG USE]                           32\n",
       "[SUSPECT OF ALCOHOL USE, SUSPECT OF DRUG USE]                26\n",
       "[NOT SUSPECT OF ALCOHOL USE, UNKNOWN]                        26\n",
       "[NOT SUSPECT OF ALCOHOL USE, SUSPECT OF DRUG USE]            18\n",
       "[UNKNOWN, SUSPECT OF DRUG USE]                                2\n",
       "Name: count, dtype: int64"
      ]
     },
     "execution_count": 68,
     "metadata": {},
     "output_type": "execute_result"
    }
   ],
   "source": [
    "drivers_data_df[\"Driver Substance Abuse\"].value_counts()"
   ]
  },
  {
   "cell_type": "code",
   "execution_count": 36,
   "id": "31d6af0d-7914-4932-9422-2f20db8210ea",
   "metadata": {},
   "outputs": [
    {
     "data": {
      "text/plain": [
       "Light\n",
       "DAYLIGHT                    116150\n",
       "DARK LIGHTS ON               39553\n",
       "Daylight                     10886\n",
       "DARK NO LIGHTS                4967\n",
       "DUSK                          3935\n",
       "DAWN                          3472\n",
       "Dark - Lighted                3213\n",
       "DARK -- UNKNOWN LIGHTING      1578\n",
       "UNKNOWN                        677\n",
       "Dark - Not Lighted             522\n",
       "OTHER                          342\n",
       "Dusk                           192\n",
       "Dawn                           164\n",
       "Dark - Unknown Lighting         97\n",
       "Other                           64\n",
       "Unknown                         54\n",
       "Name: count, dtype: int64"
      ]
     },
     "execution_count": 36,
     "metadata": {},
     "output_type": "execute_result"
    }
   ],
   "source": [
    "drivers_data_df[\"Light\"].value_counts()"
   ]
  },
  {
   "cell_type": "markdown",
   "id": "3b69f294-54a0-41f0-aa08-da504b5e02b3",
   "metadata": {},
   "source": [
    "## Load Data to DuckDB"
   ]
  },
  {
   "cell_type": "code",
   "execution_count": null,
   "id": "41337247-d72f-4540-9fd6-be3093193c97",
   "metadata": {},
   "outputs": [],
   "source": []
  }
 ],
 "metadata": {
  "kernelspec": {
   "display_name": "Python 3 (ipykernel)",
   "language": "python",
   "name": "python3"
  },
  "language_info": {
   "codemirror_mode": {
    "name": "ipython",
    "version": 3
   },
   "file_extension": ".py",
   "mimetype": "text/x-python",
   "name": "python",
   "nbconvert_exporter": "python",
   "pygments_lexer": "ipython3",
   "version": "3.10.12"
  }
 },
 "nbformat": 4,
 "nbformat_minor": 5
}
