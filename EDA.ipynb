{
 "cells": [
  {
   "cell_type": "code",
   "execution_count": 3,
   "id": "5b141e6d-4698-4548-b58b-162e191d787f",
   "metadata": {},
   "outputs": [],
   "source": [
    "import pandas as pd\n",
    "import numpy as np\n"
   ]
  },
  {
   "cell_type": "code",
   "execution_count": 6,
   "id": "dc52f0b2-eeab-415d-8cea-55c4e93d2696",
   "metadata": {},
   "outputs": [
    {
     "name": "stderr",
     "output_type": "stream",
     "text": [
      "/tmp/ipykernel_39227/504662464.py:1: DtypeWarning: Columns (1) have mixed types. Specify dtype option on import or set low_memory=False.\n",
      "  df = pd.read_csv(\"data/Crash_Reporting_-_Drivers_Data.csv\")\n",
      "/tmp/ipykernel_39227/504662464.py:2: DtypeWarning: Columns (9,16) have mixed types. Specify dtype option on import or set low_memory=False.\n",
      "  incidents_df = pd.read_csv(\"data/Crash_Reporting_-_Incidents_Data_20241111.csv\")\n"
     ]
    }
   ],
   "source": [
    "df = pd.read_csv(\"data/Crash_Reporting_-_Drivers_Data.csv\")\n",
    "incidents_df = pd.read_csv(\"data/Crash_Reporting_-_Incidents_Data_20241111.csv\")\n",
    "nonmotorists_df = pd.read_csv(\"data/Crash_Reporting_-_Non-Motorists_Data_20241111.csv\")"
   ]
  },
  {
   "cell_type": "code",
   "execution_count": 7,
   "id": "64aae1ca-dd6b-46f3-a397-8b0551dd662a",
   "metadata": {},
   "outputs": [
    {
     "data": {
      "text/html": [
       "<div>\n",
       "<style scoped>\n",
       "    .dataframe tbody tr th:only-of-type {\n",
       "        vertical-align: middle;\n",
       "    }\n",
       "\n",
       "    .dataframe tbody tr th {\n",
       "        vertical-align: top;\n",
       "    }\n",
       "\n",
       "    .dataframe thead th {\n",
       "        text-align: right;\n",
       "    }\n",
       "</style>\n",
       "<table border=\"1\" class=\"dataframe\">\n",
       "  <thead>\n",
       "    <tr style=\"text-align: right;\">\n",
       "      <th></th>\n",
       "      <th>Report Number</th>\n",
       "      <th>Local Case Number</th>\n",
       "      <th>Agency Name</th>\n",
       "      <th>ACRS Report Type</th>\n",
       "      <th>Crash Date/Time</th>\n",
       "      <th>Route Type</th>\n",
       "      <th>Road Name</th>\n",
       "      <th>Cross-Street Name</th>\n",
       "      <th>Off-Road Description</th>\n",
       "      <th>Municipality</th>\n",
       "      <th>...</th>\n",
       "      <th>Vehicle Going Dir</th>\n",
       "      <th>Speed Limit</th>\n",
       "      <th>Driverless Vehicle</th>\n",
       "      <th>Parked Vehicle</th>\n",
       "      <th>Vehicle Year</th>\n",
       "      <th>Vehicle Make</th>\n",
       "      <th>Vehicle Model</th>\n",
       "      <th>Latitude</th>\n",
       "      <th>Longitude</th>\n",
       "      <th>Location</th>\n",
       "    </tr>\n",
       "  </thead>\n",
       "  <tbody>\n",
       "    <tr>\n",
       "      <th>0</th>\n",
       "      <td>DM8479000T</td>\n",
       "      <td>210020119</td>\n",
       "      <td>Takoma Park Police Depart</td>\n",
       "      <td>Property Damage Crash</td>\n",
       "      <td>05/27/2021 07:40:00 PM</td>\n",
       "      <td>NaN</td>\n",
       "      <td>NaN</td>\n",
       "      <td>NaN</td>\n",
       "      <td>IN PARKING LOT</td>\n",
       "      <td>NaN</td>\n",
       "      <td>...</td>\n",
       "      <td>NaN</td>\n",
       "      <td>0</td>\n",
       "      <td>No</td>\n",
       "      <td>Yes</td>\n",
       "      <td>2017</td>\n",
       "      <td>HINO</td>\n",
       "      <td>TWK</td>\n",
       "      <td>38.987657</td>\n",
       "      <td>-76.987545</td>\n",
       "      <td>(38.98765667, -76.987545)</td>\n",
       "    </tr>\n",
       "    <tr>\n",
       "      <th>1</th>\n",
       "      <td>MCP2970000R</td>\n",
       "      <td>15045937</td>\n",
       "      <td>MONTGOMERY</td>\n",
       "      <td>Property Damage Crash</td>\n",
       "      <td>09/11/2015 01:29:00 PM</td>\n",
       "      <td>NaN</td>\n",
       "      <td>NaN</td>\n",
       "      <td>NaN</td>\n",
       "      <td>Parking Lot: \\n2525 Ennalls Ave</td>\n",
       "      <td>NaN</td>\n",
       "      <td>...</td>\n",
       "      <td>South</td>\n",
       "      <td>5</td>\n",
       "      <td>No</td>\n",
       "      <td>No</td>\n",
       "      <td>2012</td>\n",
       "      <td>TOYOTA</td>\n",
       "      <td>SU</td>\n",
       "      <td>39.039917</td>\n",
       "      <td>-77.053649</td>\n",
       "      <td>(39.03991652, -77.05364898)</td>\n",
       "    </tr>\n",
       "    <tr>\n",
       "      <th>2</th>\n",
       "      <td>MCP20160036</td>\n",
       "      <td>180040948</td>\n",
       "      <td>Montgomery County Police</td>\n",
       "      <td>Property Damage Crash</td>\n",
       "      <td>08/17/2018 02:25:00 PM</td>\n",
       "      <td>NaN</td>\n",
       "      <td>NaN</td>\n",
       "      <td>NaN</td>\n",
       "      <td>PARKING LOT OF 16246 FREDERICK RD</td>\n",
       "      <td>NaN</td>\n",
       "      <td>...</td>\n",
       "      <td>West</td>\n",
       "      <td>15</td>\n",
       "      <td>No</td>\n",
       "      <td>No</td>\n",
       "      <td>2015</td>\n",
       "      <td>MAZD</td>\n",
       "      <td>TK</td>\n",
       "      <td>38.743373</td>\n",
       "      <td>-77.546997</td>\n",
       "      <td>(38.743373, -77.54699707)</td>\n",
       "    </tr>\n",
       "    <tr>\n",
       "      <th>3</th>\n",
       "      <td>EJ7879003C</td>\n",
       "      <td>230048975</td>\n",
       "      <td>Gaithersburg Police Depar</td>\n",
       "      <td>Injury Crash</td>\n",
       "      <td>08/11/2023 06:00:00 PM</td>\n",
       "      <td>NaN</td>\n",
       "      <td>NaN</td>\n",
       "      <td>NaN</td>\n",
       "      <td>1 N SUMMIT DRIVE</td>\n",
       "      <td>NaN</td>\n",
       "      <td>...</td>\n",
       "      <td>Unknown</td>\n",
       "      <td>15</td>\n",
       "      <td>No</td>\n",
       "      <td>No</td>\n",
       "      <td>2018</td>\n",
       "      <td>RAM</td>\n",
       "      <td>TK</td>\n",
       "      <td>39.145873</td>\n",
       "      <td>-77.191940</td>\n",
       "      <td>(39.14587303, -77.19194047)</td>\n",
       "    </tr>\n",
       "    <tr>\n",
       "      <th>4</th>\n",
       "      <td>MCP2967004Y</td>\n",
       "      <td>230070277</td>\n",
       "      <td>Montgomery County Police</td>\n",
       "      <td>Property Damage Crash</td>\n",
       "      <td>12/06/2023 06:42:00 PM</td>\n",
       "      <td>Maryland (State)</td>\n",
       "      <td>CONNECTICUT AVE</td>\n",
       "      <td>BALTIMORE ST</td>\n",
       "      <td>NaN</td>\n",
       "      <td>KENSINGTON</td>\n",
       "      <td>...</td>\n",
       "      <td>South</td>\n",
       "      <td>35</td>\n",
       "      <td>No</td>\n",
       "      <td>No</td>\n",
       "      <td>2017</td>\n",
       "      <td>AUDI</td>\n",
       "      <td>A3</td>\n",
       "      <td>39.025170</td>\n",
       "      <td>-77.076333</td>\n",
       "      <td>(39.02517017, -77.07633333)</td>\n",
       "    </tr>\n",
       "  </tbody>\n",
       "</table>\n",
       "<p>5 rows × 39 columns</p>\n",
       "</div>"
      ],
      "text/plain": [
       "  Report Number Local Case Number                Agency Name  \\\n",
       "0    DM8479000T         210020119  Takoma Park Police Depart   \n",
       "1   MCP2970000R          15045937                 MONTGOMERY   \n",
       "2   MCP20160036         180040948   Montgomery County Police   \n",
       "3    EJ7879003C         230048975  Gaithersburg Police Depar   \n",
       "4   MCP2967004Y         230070277   Montgomery County Police   \n",
       "\n",
       "        ACRS Report Type         Crash Date/Time        Route Type  \\\n",
       "0  Property Damage Crash  05/27/2021 07:40:00 PM               NaN   \n",
       "1  Property Damage Crash  09/11/2015 01:29:00 PM               NaN   \n",
       "2  Property Damage Crash  08/17/2018 02:25:00 PM               NaN   \n",
       "3           Injury Crash  08/11/2023 06:00:00 PM               NaN   \n",
       "4  Property Damage Crash  12/06/2023 06:42:00 PM  Maryland (State)   \n",
       "\n",
       "         Road Name Cross-Street Name               Off-Road Description  \\\n",
       "0              NaN               NaN                     IN PARKING LOT   \n",
       "1              NaN               NaN    Parking Lot: \\n2525 Ennalls Ave   \n",
       "2              NaN               NaN  PARKING LOT OF 16246 FREDERICK RD   \n",
       "3              NaN               NaN                   1 N SUMMIT DRIVE   \n",
       "4  CONNECTICUT AVE      BALTIMORE ST                                NaN   \n",
       "\n",
       "  Municipality  ... Vehicle Going Dir Speed Limit Driverless Vehicle  \\\n",
       "0          NaN  ...               NaN           0                 No   \n",
       "1          NaN  ...             South           5                 No   \n",
       "2          NaN  ...              West          15                 No   \n",
       "3          NaN  ...           Unknown          15                 No   \n",
       "4   KENSINGTON  ...             South          35                 No   \n",
       "\n",
       "  Parked Vehicle Vehicle Year Vehicle Make Vehicle Model   Latitude  \\\n",
       "0            Yes         2017         HINO           TWK  38.987657   \n",
       "1             No         2012       TOYOTA            SU  39.039917   \n",
       "2             No         2015         MAZD            TK  38.743373   \n",
       "3             No         2018          RAM            TK  39.145873   \n",
       "4             No         2017         AUDI            A3  39.025170   \n",
       "\n",
       "   Longitude                     Location  \n",
       "0 -76.987545    (38.98765667, -76.987545)  \n",
       "1 -77.053649  (39.03991652, -77.05364898)  \n",
       "2 -77.546997    (38.743373, -77.54699707)  \n",
       "3 -77.191940  (39.14587303, -77.19194047)  \n",
       "4 -77.076333  (39.02517017, -77.07633333)  \n",
       "\n",
       "[5 rows x 39 columns]"
      ]
     },
     "execution_count": 7,
     "metadata": {},
     "output_type": "execute_result"
    }
   ],
   "source": [
    "df.head()"
   ]
  },
  {
   "cell_type": "code",
   "execution_count": 30,
   "id": "360eef1e-02a5-4df9-bca2-ca6849753db2",
   "metadata": {},
   "outputs": [
    {
     "name": "stdout",
     "output_type": "stream",
     "text": [
      "<class 'pandas.core.frame.DataFrame'>\n",
      "RangeIndex: 187311 entries, 0 to 187310\n",
      "Data columns (total 39 columns):\n",
      " #   Column                         Non-Null Count   Dtype  \n",
      "---  ------                         --------------   -----  \n",
      " 0   Report Number                  187311 non-null  object \n",
      " 1   Local Case Number              187311 non-null  object \n",
      " 2   Agency Name                    187311 non-null  object \n",
      " 3   ACRS Report Type               187311 non-null  object \n",
      " 4   Crash Date/Time                187311 non-null  object \n",
      " 5   Route Type                     168981 non-null  object \n",
      " 6   Road Name                      168141 non-null  object \n",
      " 7   Cross-Street Name              161910 non-null  object \n",
      " 8   Off-Road Description           17292 non-null   object \n",
      " 9   Municipality                   19126 non-null   object \n",
      " 10  Related Non-Motorist           6009 non-null    object \n",
      " 11  Collision Type                 186726 non-null  object \n",
      " 12  Weather                        173955 non-null  object \n",
      " 13  Surface Condition              165771 non-null  object \n",
      " 14  Light                          185866 non-null  object \n",
      " 15  Traffic Control                160528 non-null  object \n",
      " 16  Driver Substance Abuse         155991 non-null  object \n",
      " 17  Non-Motorist Substance Abuse   4863 non-null    object \n",
      " 18  Person ID                      187311 non-null  object \n",
      " 19  Driver At Fault                187311 non-null  object \n",
      " 20  Injury Severity                186374 non-null  object \n",
      " 21  Circumstance                   35425 non-null   object \n",
      " 22  Driver Distracted By           186297 non-null  object \n",
      " 23  Drivers License State          175622 non-null  object \n",
      " 24  Vehicle ID                     187311 non-null  object \n",
      " 25  Vehicle Damage Extent          186995 non-null  object \n",
      " 26  Vehicle First Impact Location  187155 non-null  object \n",
      " 27  Vehicle Body Type              184505 non-null  object \n",
      " 28  Vehicle Movement               186433 non-null  object \n",
      " 29  Vehicle Going Dir              182128 non-null  object \n",
      " 30  Speed Limit                    187311 non-null  int64  \n",
      " 31  Driverless Vehicle             187311 non-null  object \n",
      " 32  Parked Vehicle                 185777 non-null  object \n",
      " 33  Vehicle Year                   187311 non-null  int64  \n",
      " 34  Vehicle Make                   186890 non-null  object \n",
      " 35  Vehicle Model                  186848 non-null  object \n",
      " 36  Latitude                       187311 non-null  float64\n",
      " 37  Longitude                      187311 non-null  float64\n",
      " 38  Location                       187311 non-null  object \n",
      "dtypes: float64(2), int64(2), object(35)\n",
      "memory usage: 55.7+ MB\n"
     ]
    }
   ],
   "source": [
    "df.info()"
   ]
  },
  {
   "cell_type": "code",
   "execution_count": 31,
   "id": "513fffdb-b701-4e84-b97d-3c7cac89a483",
   "metadata": {},
   "outputs": [
    {
     "data": {
      "text/plain": [
       "Injury Severity\n",
       "NO APPARENT INJURY          141199\n",
       "POSSIBLE INJURY              17481\n",
       "SUSPECTED MINOR INJURY       11871\n",
       "No Apparent Injury           11753\n",
       "SUSPECTED SERIOUS INJURY      1414\n",
       "Suspected Minor Injury        1341\n",
       "Possible Injury               1012\n",
       "FATAL INJURY                   154\n",
       "Suspected Serious Injury       132\n",
       "Fatal Injury                    17\n",
       "Name: count, dtype: int64"
      ]
     },
     "execution_count": 31,
     "metadata": {},
     "output_type": "execute_result"
    }
   ],
   "source": [
    "df[\"Injury Severity\"].value_counts()"
   ]
  },
  {
   "cell_type": "code",
   "execution_count": 27,
   "id": "60d66436-2792-43ed-b129-58043b582495",
   "metadata": {},
   "outputs": [
    {
     "data": {
      "text/plain": [
       "Driver Distracted By\n",
       "NOT DISTRACTED                                       106718\n",
       "UNKNOWN                                               32804\n",
       "LOOKED BUT DID NOT SEE                                21547\n",
       "Not Distracted                                        10053\n",
       "INATTENTIVE OR LOST IN THOUGHT                         4320\n",
       "Unknown                                                3590\n",
       "OTHER DISTRACTION                                      3245\n",
       "DISTRACTED BY OUTSIDE PERSON OBJECT OR EVENT            970\n",
       "Other Action (looking away from task, etc.)             476\n",
       "BY OTHER OCCUPANTS                                      418\n",
       "OTHER CELLULAR PHONE RELATED                            372\n",
       "OTHER ELECTRONIC DEVICE (NAVIGATIONAL PALM PILOT)       325\n",
       "TALKING OR LISTENING TO CELLULAR PHONE                  282\n",
       "NO DRIVER PRESENT                                       280\n",
       "BY MOVING OBJECT IN VEHICLE                             212\n",
       "EATING OR DRINKING                                      196\n",
       "ADJUSTING AUDIO AND OR CLIMATE CONTROLS                 134\n",
       "USING OTHER DEVICE CONTROLS INTEGRAL TO VEHICLE          92\n",
       "TEXTING FROM A CELLULAR PHONE                            67\n",
       "USING DEVICE OBJECT BROUGHT INTO VEHICLE                 63\n",
       "DIALING CELLULAR PHONE                                   48\n",
       "Talking/listening                                        35\n",
       "SMOKING RELATED                                          26\n",
       "Manually Operating (dialing, playing game, etc.)         24\n",
       "Name: count, dtype: int64"
      ]
     },
     "execution_count": 27,
     "metadata": {},
     "output_type": "execute_result"
    }
   ],
   "source": [
    "df[\"Driver Distracted By\"].value_counts()"
   ]
  },
  {
   "cell_type": "code",
   "execution_count": 33,
   "id": "39c863cd-18a6-446b-9207-8abc5a0968f7",
   "metadata": {},
   "outputs": [
    {
     "data": {
      "text/plain": [
       "First Harmful Event\n",
       "OTHER VEHICLE                    66579\n",
       "FIXED OBJECT                     11916\n",
       "PARKED VEHICLE                    9399\n",
       "Motor Vehicle In Transport        6002\n",
       "PEDESTRIAN                        3804\n",
       "                                 ...  \n",
       "Bridge Overhead Structure            1\n",
       "Cargo/Equipment Loss Or Shift        1\n",
       "Units Separated                      1\n",
       "Construction Equipment               1\n",
       "Cable Barrier                        1\n",
       "Name: count, Length: 64, dtype: int64"
      ]
     },
     "execution_count": 33,
     "metadata": {},
     "output_type": "execute_result"
    }
   ],
   "source": [
    "incidents_df[\"First Harmful Event\"].value_counts()"
   ]
  },
  {
   "cell_type": "code",
   "execution_count": 18,
   "id": "fbde18a3-4bf2-494e-9542-c8525a88e2a9",
   "metadata": {},
   "outputs": [
    {
     "data": {
      "text/plain": [
       "Road Condition\n",
       "NO DEFECTS                  86153\n",
       "OTHER                         360\n",
       "HOLES RUTS ETC                322\n",
       "UNKNOWN                       246\n",
       "LOOSE SURFACE MATERIAL        168\n",
       "FOREIGN MATERIAL              133\n",
       "VIEW OBSTRUCTED                85\n",
       "SHOULDER DEFECT                75\n",
       "NOT APPLICABLE                 45\n",
       "OBSTRUCTION NOT LIGHTED        21\n",
       "OBSTRUCTION NOT SIGNALED       11\n",
       "Name: count, dtype: int64"
      ]
     },
     "execution_count": 18,
     "metadata": {},
     "output_type": "execute_result"
    }
   ],
   "source": [
    "incidents_df[\"Road Condition\"] = incidents_df[\"Road Condition\"].apply(lambda x : x.upper() if type(x) == str else None) \n",
    "\n",
    "\n",
    "incidents_df[\"Road Condition\"].value_counts()"
   ]
  },
  {
   "cell_type": "code",
   "execution_count": 7,
   "id": "a5b7a9cf-6a35-4210-85b1-52374a18ca80",
   "metadata": {},
   "outputs": [
    {
     "data": {
      "text/plain": [
       "Driver At Fault\n",
       "Yes        97226\n",
       "No         85401\n",
       "Unknown     4684\n",
       "Name: count, dtype: int64"
      ]
     },
     "execution_count": 7,
     "metadata": {},
     "output_type": "execute_result"
    }
   ],
   "source": [
    "df[\"Driver At Fault\"].value_counts()"
   ]
  },
  {
   "cell_type": "code",
   "execution_count": 12,
   "id": "bad67490-bf1e-49ad-aac1-67265f7953b4",
   "metadata": {},
   "outputs": [
    {
     "data": {
      "text/plain": [
       "0         05/27/2021 07:40:00 PM\n",
       "1         09/11/2015 01:29:00 PM\n",
       "2         08/17/2018 02:25:00 PM\n",
       "3         08/11/2023 06:00:00 PM\n",
       "4         12/06/2023 06:42:00 PM\n",
       "                   ...          \n",
       "187306    10/23/2024 02:42:00 PM\n",
       "187307    10/18/2024 02:50:00 PM\n",
       "187308    10/28/2024 05:40:00 PM\n",
       "187309    10/24/2024 05:25:00 PM\n",
       "187310    10/28/2024 04:30:00 PM\n",
       "Name: Crash Date/Time, Length: 187311, dtype: object"
      ]
     },
     "execution_count": 12,
     "metadata": {},
     "output_type": "execute_result"
    }
   ],
   "source": [
    "df[\"Crash Date/Time\"]"
   ]
  },
  {
   "cell_type": "code",
   "execution_count": 13,
   "id": "424fa42a-a9fc-4aa9-9c6b-08402db14c66",
   "metadata": {},
   "outputs": [
    {
     "data": {
      "text/plain": [
       "Agency Name\n",
       "Montgomery County Police     138376\n",
       "MONTGOMERY                    23512\n",
       "Rockville Police Departme      9839\n",
       "Gaithersburg Police Depar      7843\n",
       "Takoma Park Police Depart      2993\n",
       "ROCKVILLE                      1651\n",
       "GAITHERSBURG                   1333\n",
       "Maryland-National Capital      1155\n",
       "TAKOMA                          424\n",
       "MCPARK                          185\n",
       "Name: count, dtype: int64"
      ]
     },
     "execution_count": 13,
     "metadata": {},
     "output_type": "execute_result"
    }
   ],
   "source": [
    "df[\"Agency Name\"].value_counts()"
   ]
  },
  {
   "cell_type": "code",
   "execution_count": 15,
   "id": "cc7a3111-8133-4bf7-afb6-cb224c47cd17",
   "metadata": {},
   "outputs": [
    {
     "data": {
      "text/plain": [
       "Light\n",
       "DAYLIGHT                    116150\n",
       "DARK LIGHTS ON               39553\n",
       "Daylight                     10886\n",
       "DARK NO LIGHTS                4967\n",
       "DUSK                          3935\n",
       "DAWN                          3472\n",
       "Dark - Lighted                3213\n",
       "DARK -- UNKNOWN LIGHTING      1578\n",
       "UNKNOWN                        677\n",
       "Dark - Not Lighted             522\n",
       "OTHER                          342\n",
       "Dusk                           192\n",
       "Dawn                           164\n",
       "Dark - Unknown Lighting         97\n",
       "Other                           64\n",
       "Unknown                         54\n",
       "Name: count, dtype: int64"
      ]
     },
     "execution_count": 15,
     "metadata": {},
     "output_type": "execute_result"
    }
   ],
   "source": [
    "df[\"Light\"].value_counts()"
   ]
  },
  {
   "cell_type": "code",
   "execution_count": 19,
   "id": "0df04f08-628d-40d2-9189-dc68a2a449df",
   "metadata": {},
   "outputs": [
    {
     "name": "stdout",
     "output_type": "stream",
     "text": [
      "<class 'pandas.core.frame.DataFrame'>\n",
      "RangeIndex: 106363 entries, 0 to 106362\n",
      "Data columns (total 37 columns):\n",
      " #   Column                        Non-Null Count   Dtype  \n",
      "---  ------                        --------------   -----  \n",
      " 0   Report Number                 106363 non-null  object \n",
      " 1   Local Case Number             106363 non-null  object \n",
      " 2   Agency Name                   106363 non-null  object \n",
      " 3   ACRS Report Type              106363 non-null  object \n",
      " 4   Crash Date/Time               106363 non-null  object \n",
      " 5   Hit/Run                       104719 non-null  object \n",
      " 6   Route Type                    92279 non-null   object \n",
      " 7   Lane Direction                92924 non-null   object \n",
      " 8   Lane Type                     17325 non-null   object \n",
      " 9   Number of Lanes               94023 non-null   object \n",
      " 10  Direction                     92936 non-null   object \n",
      " 11  Distance                      94799 non-null   float64\n",
      " 12  Distance Unit                 94035 non-null   object \n",
      " 13  Road Grade                    92308 non-null   object \n",
      " 14  Road Name                     91893 non-null   object \n",
      " 15  Cross-Street Name             88146 non-null   object \n",
      " 16  Off-Road Description          13415 non-null   object \n",
      " 17  Municipality                  10491 non-null   object \n",
      " 18  Related Non-Motorist          5934 non-null    object \n",
      " 19  At Fault                      106363 non-null  object \n",
      " 20  Collision Type                105859 non-null  object \n",
      " 21  Weather                       98415 non-null   object \n",
      " 22  Surface Condition             90580 non-null   object \n",
      " 23  Light                         105548 non-null  object \n",
      " 24  Traffic Control               88872 non-null   object \n",
      " 25  Driver Substance Abuse        90693 non-null   object \n",
      " 26  Non-Motorist Substance Abuse  4816 non-null    object \n",
      " 27  First Harmful Event           105713 non-null  object \n",
      " 28  Second Harmful Event          27821 non-null   object \n",
      " 29  Junction                      78906 non-null   object \n",
      " 30  Intersection Type             50916 non-null   object \n",
      " 31  Road Alignment                92526 non-null   object \n",
      " 32  Road Condition                87619 non-null   object \n",
      " 33  Road Division                 91746 non-null   object \n",
      " 34  Latitude                      106363 non-null  float64\n",
      " 35  Longitude                     106363 non-null  float64\n",
      " 36  Location                      106363 non-null  object \n",
      "dtypes: float64(3), object(34)\n",
      "memory usage: 30.0+ MB\n"
     ]
    }
   ],
   "source": [
    "incidents_df.info()"
   ]
  },
  {
   "cell_type": "code",
   "execution_count": 29,
   "id": "e1e8fa2f-11d4-4215-90f7-3960f51cdd5c",
   "metadata": {},
   "outputs": [
    {
     "data": {
      "text/plain": [
       "First Harmful Event\n",
       "OTHER VEHICLE                    66579\n",
       "FIXED OBJECT                     11916\n",
       "PARKED VEHICLE                    9399\n",
       "Motor Vehicle In Transport        6002\n",
       "PEDESTRIAN                        3804\n",
       "                                 ...  \n",
       "Bridge Overhead Structure            1\n",
       "Cargo/Equipment Loss Or Shift        1\n",
       "Units Separated                      1\n",
       "Construction Equipment               1\n",
       "Cable Barrier                        1\n",
       "Name: count, Length: 64, dtype: int64"
      ]
     },
     "execution_count": 29,
     "metadata": {},
     "output_type": "execute_result"
    }
   ],
   "source": [
    "incidents_df[\"First Harmful Event\"].value_counts()"
   ]
  },
  {
   "cell_type": "code",
   "execution_count": 34,
   "id": "36acd585-6633-43b6-b769-2959de21df38",
   "metadata": {},
   "outputs": [
    {
     "data": {
      "text/plain": [
       "Surface Condition\n",
       "DRY        3520\n",
       "WET         687\n",
       "Dry         389\n",
       "Wet          69\n",
       "UNKNOWN      25\n",
       "SNOW         16\n",
       "ICE          11\n",
       "OTHER         5\n",
       "SLUSH         4\n",
       "Slush         1\n",
       "Snow          1\n",
       "Other         1\n",
       "Name: count, dtype: int64"
      ]
     },
     "execution_count": 34,
     "metadata": {},
     "output_type": "execute_result"
    }
   ],
   "source": [
    "nonmotorists_df[\"Surface Condition\"].value_counts()"
   ]
  },
  {
   "cell_type": "code",
   "execution_count": 26,
   "id": "ccd1b499-5e02-447d-90b8-3ad7ef7f0c3f",
   "metadata": {},
   "outputs": [
    {
     "data": {
      "text/plain": [
       "Weather\n",
       "CLEAR                                65517\n",
       "RAINING                              11675\n",
       "CLOUDY                                9609\n",
       "Clear                                 6921\n",
       "Rain                                  1012\n",
       "SNOW                                   877\n",
       "Cloudy                                 743\n",
       "UNKNOWN                                649\n",
       "FOGGY                                  429\n",
       "WINTRY MIX                             252\n",
       "OTHER                                  214\n",
       "SLEET                                  130\n",
       "SEVERE WINDS                            93\n",
       "Unknown                                 92\n",
       "Snow                                    81\n",
       "BLOWING SNOW                            68\n",
       "Blowing Snow                            17\n",
       "Fog, Smog, Smoke                        13\n",
       "Freezing Rain Or Freezing Drizzle        9\n",
       "BLOWING SAND, SOIL, DIRT                 7\n",
       "Severe Crosswinds                        5\n",
       "Sleet Or Hail                            2\n",
       "Name: count, dtype: int64"
      ]
     },
     "execution_count": 26,
     "metadata": {},
     "output_type": "execute_result"
    }
   ],
   "source": [
    "incidents_df[\"Weather\"].value_counts()"
   ]
  },
  {
   "cell_type": "code",
   "execution_count": null,
   "id": "d9d25d5a-f735-4e2a-a14e-594ad929bf41",
   "metadata": {},
   "outputs": [],
   "source": []
  }
 ],
 "metadata": {
  "kernelspec": {
   "display_name": "Python 3 (ipykernel)",
   "language": "python",
   "name": "python3"
  },
  "language_info": {
   "codemirror_mode": {
    "name": "ipython",
    "version": 3
   },
   "file_extension": ".py",
   "mimetype": "text/x-python",
   "name": "python",
   "nbconvert_exporter": "python",
   "pygments_lexer": "ipython3",
   "version": "3.10.12"
  }
 },
 "nbformat": 4,
 "nbformat_minor": 5
}
